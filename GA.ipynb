{
  "nbformat": 4,
  "nbformat_minor": 0,
  "metadata": {
    "colab": {
      "name": "GA.ipynb",
      "provenance": [],
      "collapsed_sections": []
    },
    "kernelspec": {
      "name": "python3",
      "display_name": "Python 3"
    },
    "language_info": {
      "name": "python"
    }
  },
  "cells": [
    {
      "cell_type": "code",
      "source": [
        "!pip install tensorflow\n",
        "!pip install pandas\n",
        "!pip install numpy"
      ],
      "metadata": {
        "id": "9ug2k02-ief3"
      },
      "execution_count": null,
      "outputs": []
    },
    {
      "cell_type": "code",
      "execution_count": 63,
      "metadata": {
        "id": "X0iMVR_FiRzu"
      },
      "outputs": [],
      "source": [
        "from geneticalgorithm import geneticalgorithm as ga\n",
        "import pandas as pd\n",
        "import numpy as np\n",
        "import tensorflow as tf\n",
        "from tensorflow import keras\n",
        "from keras.models import model_from_json\n",
        "from keras import backend as k\n",
        "\n",
        "json_file = open('/content/model.json', 'r')\n",
        "loaded_model_json = json_file.read()\n",
        "json_file.close()\n",
        "loaded_model = model_from_json(loaded_model_json)\n",
        "# load weights into new model\n",
        "loaded_model.load_weights(\"/content/model.h5\")\n",
        "\n",
        "def GA(population_size, mutation_probability, crossover_probability, parents_portion):\n",
        "  def fitnessfunction(x):\n",
        "      x= np.reshape(x, ( 1 ,x.shape[0]))\n",
        "      output = loaded_model.predict(x)\n",
        "      output = - output\n",
        "      return output\n",
        "\n",
        "  varbound=np.array([[5, 8], [60, 60.1], [0,1], [0,1], [0,1], [0,1], [0,1], [0,1], [0,1], [0,1]])\n",
        "#  varbound=np.array([[5, 8], [60, 60.1], [0,2], [0,1], [0,2]])\n",
        "#  vartype=np.array([['int'],['int'],['int'],['int'],['int']])\n",
        "  vartype=np.array([['int'],['int'],['int'],['int'],['int'],['int'],['int'],['int'],['int'],['int']])\n",
        "\n",
        "  algorithm_param = {'max_num_iteration': None,\\\n",
        "                     'population_size': population_size,\\\n",
        "                    'crossover_probability':crossover_probability,\\\n",
        "                    'mutation_probability':mutation_probability,\\\n",
        "                    'elit_ratio': 0.01,\\\n",
        "                    'crossover_probability':crossover_probability,\\\n",
        "                    'parents_portion':parents_portion,\\\n",
        "                    'crossover_type':'uniform',\\\n",
        "                    'max_iteration_without_improv':None}\n",
        "\n",
        "  model=geneticalgorithm(function=fitnessfunction,dimension=10,variable_type_mixed=vartype,variable_boundaries=varbound,algorithm_parameters=algorithm_param)\n",
        "\n",
        "  model.run()"
      ]
    },
    {
      "cell_type": "code",
      "source": [
        "population_size = [100]\n",
        "mutation_probability = [0.1]\n",
        "crossover_probability = [0.5]\n",
        "parents_portion = [0.3]"
      ],
      "metadata": {
        "id": "cAwryDklBoV_"
      },
      "execution_count": 64,
      "outputs": []
    },
    {
      "cell_type": "code",
      "source": [
        "for i in population_size:\n",
        "  for j in mutation_probability:\n",
        "    for k in crossover_probability:\n",
        "      for l in parents_portion:\n",
        "        print(\"population_size: %r\"%i)\n",
        "        print(\"mutation_probability: %r\"%j)\n",
        "        print(\"crossover_probability: %r\"%k)\n",
        "        print(\"parents_portion: %r\"%l)\n",
        "        GA(i, j, k, l)"
      ],
      "metadata": {
        "colab": {
          "base_uri": "https://localhost:8080/",
          "height": 456
        },
        "id": "xflB1yxUC9Xv",
        "outputId": "c390f7c5-918d-4d21-f1e1-6e5093eb8f15"
      },
      "execution_count": 65,
      "outputs": [
        {
          "output_type": "stream",
          "name": "stdout",
          "text": [
            "population_size: 100\n",
            "mutation_probability: 0.1\n",
            "crossover_probability: 0.5\n",
            "parents_portion: 0.3\n",
            " The best solution found:\n",
            " [ 5. 60.  0.  0.  1.  0.  1.  0.  1.  0.]\n",
            "\n",
            " Objective function:\n",
            " -73.95179748535156\n"
          ]
        },
        {
          "output_type": "display_data",
          "data": {
            "text/plain": [
              "<Figure size 432x288 with 1 Axes>"
            ],
            "image/png": "[encoded data removed]"
          },
          "metadata": {
            "needs_background": "light"
          }
        }
      ]
    },
    {
      "cell_type": "code",
      "source": [
        "#x = [8, 1, 0, 2, 49.91]\n",
        "x = [5, 60, 0, 0, 1, 0, 1, 0, 1, 0]\n",
        "#x = [8, 49.91, 0, 1, 0, 1, 0, 0, 0, 1]\n",
        "x =np.array(x)\n",
        "x= np.reshape(x, ( 1 ,x.shape[0]))\n",
        "output = loaded_model.predict(x)\n",
        "print(output[0][0])"
      ],
      "metadata": {
        "id": "9fSU_P20rKVH",
        "colab": {
          "base_uri": "https://localhost:8080/"
        },
        "outputId": "7e11390e-f901-469c-dd37-a6c906805d41"
      },
      "execution_count": 37,
      "outputs": [
        {
          "output_type": "stream",
          "name": "stdout",
          "text": [
            "73.9518\n"
          ]
        }
      ]
    }
  ]
}
